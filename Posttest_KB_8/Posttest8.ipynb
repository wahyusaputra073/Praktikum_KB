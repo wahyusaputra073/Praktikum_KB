{
  "nbformat": 4,
  "nbformat_minor": 0,
  "metadata": {
    "colab": {
      "provenance": [],
      "collapsed_sections": []
    },
    "kernelspec": {
      "name": "python3",
      "display_name": "Python 3"
    },
    "language_info": {
      "name": "python"
    }
  },
  "cells": [
    {
      "cell_type": "markdown",
      "source": [
        "### POSTTEST 8 - Deep Learning\n",
        "### Nama    :  Wahyu Harry Saputra Sembiring\n",
        "### NIM     :  2009106049\n",
        "### Kelas   :  Informatika A 2020 (A2)"
      ],
      "metadata": {
        "id": "OE6jvwDoxeQ8"
      }
    },
    {
      "cell_type": "code",
      "execution_count": null,
      "metadata": {
        "id": "g4c4KgzXZo2O"
      },
      "outputs": [],
      "source": [
        "import tensorflow as tf\n",
        "model = tf.keras.Sequential()\n",
        "model.add(tf.keras.layers.Dense(16, activation='relu'))\n",
        "model.add(tf.keras.layers.Dense(32, activation='relu'))\n",
        "model.add(tf.keras.layers.Dense(10, activation='softmax'))"
      ]
    },
    {
      "cell_type": "code",
      "source": [
        "model = tf.keras.Sequential([\n",
        "tf.keras.layers.Dense(units=64, input_shape=[10,10,1]),\n",
        "tf.keras.layers.Dense(32, activation='relu'),\n",
        "tf.keras.layers.Dense(32, kernel_initializer=tf.keras.initializers.he_normal),\n",
        "tf.keras.layers.Dense(32, kernel_regularizer=tf.keras.regularizers.l2(0.01)),\n",
        "tf.keras.layers.Dense(10, activation='softmax')\n",
        "])\n",
        "model.summary()"
      ],
      "metadata": {
        "colab": {
          "base_uri": "https://localhost:8080/"
        },
        "id": "AGt8lr0qZpXq",
        "outputId": "2d792d1d-4167-4d47-fcc8-b2ca7caa5cfe"
      },
      "execution_count": null,
      "outputs": [
        {
          "output_type": "stream",
          "name": "stdout",
          "text": [
            "Model: \"sequential_1\"\n",
            "_________________________________________________________________\n",
            " Layer (type)                Output Shape              Param #   \n",
            "=================================================================\n",
            " dense_3 (Dense)             (None, 10, 10, 64)        128       \n",
            "                                                                 \n",
            " dense_4 (Dense)             (None, 10, 10, 32)        2080      \n",
            "                                                                 \n",
            " dense_5 (Dense)             (None, 10, 10, 32)        1056      \n",
            "                                                                 \n",
            " dense_6 (Dense)             (None, 10, 10, 32)        1056      \n",
            "                                                                 \n",
            " dense_7 (Dense)             (None, 10, 10, 10)        330       \n",
            "                                                                 \n",
            "=================================================================\n",
            "Total params: 4,650\n",
            "Trainable params: 4,650\n",
            "Non-trainable params: 0\n",
            "_________________________________________________________________\n"
          ]
        }
      ]
    },
    {
      "cell_type": "code",
      "source": [
        "import tensorflow as tf\n",
        "import numpy as np\n",
        "\n",
        "#membuat variable x sebagai atribute dan y sebagai label\n",
        "x = np.array([1.0, 2.0, 3.0, 4.0, 5.0, 6.0], dtype=float)\n",
        "y = np.array([2.0, 4.0, 6.0, 8.0, 10.0, 12.0], dtype=float)\n",
        "\n",
        "#membuat sequential dimana hanya 1 dense layer yang dibutuhkan\n",
        "model = tf.keras.Sequential([\n",
        "tf.keras.layers.Dense(units=1, input_shape=[1])\n",
        "])\n",
        "\n",
        "#model di kompilasi dengan optimizer sgd dan loss MSE\n",
        "model.compile(optimizer='sgd', loss='mse')\n",
        "\n",
        "#model di training dengan epoch yang dapat kita atur\n",
        "model.fit(x, y, epochs=50)\n",
        "\n",
        "#mencoba prediksi y dengan model yang telah dilatih\n",
        "y_pred = model.predict([6.0, 7.0, 8.0])\n",
        "print(y_pred)"
      ],
      "metadata": {
        "colab": {
          "base_uri": "https://localhost:8080/"
        },
        "id": "_zV7H2ImZ6Bp",
        "outputId": "b9ffc3a3-14d5-4a5c-9fe3-6f4147b20aad"
      },
      "execution_count": null,
      "outputs": [
        {
          "output_type": "stream",
          "name": "stdout",
          "text": [
            "Epoch 1/50\n",
            "1/1 [==============================] - 0s 263ms/step - loss: 97.0468\n",
            "Epoch 2/50\n",
            "1/1 [==============================] - 0s 11ms/step - loss: 44.9482\n",
            "Epoch 3/50\n",
            "1/1 [==============================] - 0s 10ms/step - loss: 20.8351\n",
            "Epoch 4/50\n",
            "1/1 [==============================] - 0s 11ms/step - loss: 9.6747\n",
            "Epoch 5/50\n",
            "1/1 [==============================] - 0s 9ms/step - loss: 4.5090\n",
            "Epoch 6/50\n",
            "1/1 [==============================] - 0s 12ms/step - loss: 2.1180\n",
            "Epoch 7/50\n",
            "1/1 [==============================] - 0s 8ms/step - loss: 1.0111\n",
            "Epoch 8/50\n",
            "1/1 [==============================] - 0s 16ms/step - loss: 0.4986\n",
            "Epoch 9/50\n",
            "1/1 [==============================] - 0s 11ms/step - loss: 0.2612\n",
            "Epoch 10/50\n",
            "1/1 [==============================] - 0s 9ms/step - loss: 0.1511\n",
            "Epoch 11/50\n",
            "1/1 [==============================] - 0s 8ms/step - loss: 0.0999\n",
            "Epoch 12/50\n",
            "1/1 [==============================] - 0s 8ms/step - loss: 0.0760\n",
            "Epoch 13/50\n",
            "1/1 [==============================] - 0s 15ms/step - loss: 0.0647\n",
            "Epoch 14/50\n",
            "1/1 [==============================] - 0s 9ms/step - loss: 0.0593\n",
            "Epoch 15/50\n",
            "1/1 [==============================] - 0s 7ms/step - loss: 0.0565\n",
            "Epoch 16/50\n",
            "1/1 [==============================] - 0s 7ms/step - loss: 0.0551\n",
            "Epoch 17/50\n",
            "1/1 [==============================] - 0s 7ms/step - loss: 0.0542\n",
            "Epoch 18/50\n",
            "1/1 [==============================] - 0s 7ms/step - loss: 0.0535\n",
            "Epoch 19/50\n",
            "1/1 [==============================] - 0s 8ms/step - loss: 0.0530\n",
            "Epoch 20/50\n",
            "1/1 [==============================] - 0s 7ms/step - loss: 0.0526\n",
            "Epoch 21/50\n",
            "1/1 [==============================] - 0s 7ms/step - loss: 0.0522\n",
            "Epoch 22/50\n",
            "1/1 [==============================] - 0s 7ms/step - loss: 0.0518\n",
            "Epoch 23/50\n",
            "1/1 [==============================] - 0s 7ms/step - loss: 0.0514\n",
            "Epoch 24/50\n",
            "1/1 [==============================] - 0s 8ms/step - loss: 0.0511\n",
            "Epoch 25/50\n",
            "1/1 [==============================] - 0s 7ms/step - loss: 0.0507\n",
            "Epoch 26/50\n",
            "1/1 [==============================] - 0s 7ms/step - loss: 0.0503\n",
            "Epoch 27/50\n",
            "1/1 [==============================] - 0s 11ms/step - loss: 0.0499\n",
            "Epoch 28/50\n",
            "1/1 [==============================] - 0s 7ms/step - loss: 0.0496\n",
            "Epoch 29/50\n",
            "1/1 [==============================] - 0s 7ms/step - loss: 0.0492\n",
            "Epoch 30/50\n",
            "1/1 [==============================] - 0s 8ms/step - loss: 0.0489\n",
            "Epoch 31/50\n",
            "1/1 [==============================] - 0s 7ms/step - loss: 0.0485\n",
            "Epoch 32/50\n",
            "1/1 [==============================] - 0s 7ms/step - loss: 0.0482\n",
            "Epoch 33/50\n",
            "1/1 [==============================] - 0s 7ms/step - loss: 0.0478\n",
            "Epoch 34/50\n",
            "1/1 [==============================] - 0s 7ms/step - loss: 0.0475\n",
            "Epoch 35/50\n",
            "1/1 [==============================] - 0s 7ms/step - loss: 0.0471\n",
            "Epoch 36/50\n",
            "1/1 [==============================] - 0s 7ms/step - loss: 0.0468\n",
            "Epoch 37/50\n",
            "1/1 [==============================] - 0s 7ms/step - loss: 0.0464\n",
            "Epoch 38/50\n",
            "1/1 [==============================] - 0s 7ms/step - loss: 0.0461\n",
            "Epoch 39/50\n",
            "1/1 [==============================] - 0s 7ms/step - loss: 0.0458\n",
            "Epoch 40/50\n",
            "1/1 [==============================] - 0s 11ms/step - loss: 0.0454\n",
            "Epoch 41/50\n",
            "1/1 [==============================] - 0s 7ms/step - loss: 0.0451\n",
            "Epoch 42/50\n",
            "1/1 [==============================] - 0s 7ms/step - loss: 0.0448\n",
            "Epoch 43/50\n",
            "1/1 [==============================] - 0s 8ms/step - loss: 0.0444\n",
            "Epoch 44/50\n",
            "1/1 [==============================] - 0s 7ms/step - loss: 0.0441\n",
            "Epoch 45/50\n",
            "1/1 [==============================] - 0s 14ms/step - loss: 0.0438\n",
            "Epoch 46/50\n",
            "1/1 [==============================] - 0s 7ms/step - loss: 0.0435\n",
            "Epoch 47/50\n",
            "1/1 [==============================] - 0s 7ms/step - loss: 0.0432\n",
            "Epoch 48/50\n",
            "1/1 [==============================] - 0s 7ms/step - loss: 0.0428\n",
            "Epoch 49/50\n",
            "1/1 [==============================] - 0s 9ms/step - loss: 0.0425\n",
            "Epoch 50/50\n",
            "1/1 [==============================] - 0s 7ms/step - loss: 0.0422\n"
          ]
        },
        {
          "output_type": "stream",
          "name": "stderr",
          "text": [
            "WARNING:tensorflow:5 out of the last 5 calls to <function Model.make_predict_function.<locals>.predict_function at 0x7f34a90970e0> triggered tf.function retracing. Tracing is expensive and the excessive number of tracings could be due to (1) creating @tf.function repeatedly in a loop, (2) passing tensors with different shapes, (3) passing Python objects instead of tensors. For (1), please define your @tf.function outside of the loop. For (2), @tf.function has reduce_retracing=True option that can avoid unnecessary retracing. For (3), please refer to https://www.tensorflow.org/guide/function#controlling_retracing and https://www.tensorflow.org/api_docs/python/tf/function for  more details.\n"
          ]
        },
        {
          "output_type": "stream",
          "name": "stdout",
          "text": [
            "1/1 [==============================] - 0s 185ms/step\n",
            "[[11.812639]\n",
            " [13.703633]\n",
            " [15.594626]]\n"
          ]
        }
      ]
    },
    {
      "cell_type": "code",
      "source": [],
      "metadata": {
        "id": "pS6KtliZZ2ho"
      },
      "execution_count": null,
      "outputs": []
    },
    {
      "cell_type": "markdown",
      "source": [
        "#### Prediksi Data Baru"
      ],
      "metadata": {
        "id": "vY_VoraIbI8b"
      }
    },
    {
      "cell_type": "code",
      "source": [
        "new_data = np.array([6.0,7.0,8.0])\n",
        "y_pred = model.predict(new_data)\n",
        "print(y_pred)"
      ],
      "metadata": {
        "colab": {
          "base_uri": "https://localhost:8080/"
        },
        "id": "3Xcq_fjrbLK4",
        "outputId": "d323faf5-5886-4054-aa10-f07b1eb037bb"
      },
      "execution_count": null,
      "outputs": [
        {
          "output_type": "stream",
          "name": "stdout",
          "text": [
            "1/1 [==============================] - 0s 25ms/step\n",
            "[[11.812639]\n",
            " [13.703633]\n",
            " [15.594626]]\n"
          ]
        }
      ]
    },
    {
      "cell_type": "code",
      "source": [],
      "metadata": {
        "id": "AcTTgUQjbaJo"
      },
      "execution_count": null,
      "outputs": []
    },
    {
      "cell_type": "markdown",
      "source": [
        "#### Klasifikasi dengan Dataset MNIST"
      ],
      "metadata": {
        "id": "qsv1PBxtbqTj"
      }
    },
    {
      "cell_type": "code",
      "source": [
        "import os\n",
        "import tensorflow as tf\n",
        "from tensorflow import keras\n",
        "from tensorflow.keras import layers,optimizers,datasets\n",
        "import matplotlib.pyplot as plt"
      ],
      "metadata": {
        "id": "3JBjqydObugX"
      },
      "execution_count": null,
      "outputs": []
    },
    {
      "cell_type": "code",
      "source": [
        "# Load Dataset\n",
        "\n",
        "(x_train_raw,y_train_raw), (x_test_raw,y_test_raw) = datasets.mnist.load_data()"
      ],
      "metadata": {
        "colab": {
          "base_uri": "https://localhost:8080/"
        },
        "id": "1fZya_yrb0ko",
        "outputId": "d864cc30-ecab-45f0-821c-cbccd592d762"
      },
      "execution_count": null,
      "outputs": [
        {
          "output_type": "stream",
          "name": "stdout",
          "text": [
            "Downloading data from https://storage.googleapis.com/tensorflow/tf-keras-datasets/mnist.npz\n",
            "11490434/11490434 [==============================] - 0s 0us/step\n"
          ]
        }
      ]
    },
    {
      "cell_type": "code",
      "source": [],
      "metadata": {
        "id": "93Lw5kT3cofu"
      },
      "execution_count": null,
      "outputs": []
    },
    {
      "cell_type": "markdown",
      "source": [
        "#### Encoding Label"
      ],
      "metadata": {
        "id": "u8-Y7gSXczpB"
      }
    },
    {
      "cell_type": "code",
      "source": [
        "num_class = 10 \n",
        "\n",
        "#One Hot Encoding\n",
        "y_train = keras.utils.to_categorical(y_train_raw,num_class)\n",
        "y_test = keras.utils.to_categorical(y_test_raw,num_class)\n",
        "\n",
        "print(y_test[0])"
      ],
      "metadata": {
        "colab": {
          "base_uri": "https://localhost:8080/"
        },
        "id": "5NDuemFSc0sn",
        "outputId": "34a13233-d239-460c-e3e5-6bb067f6a5da"
      },
      "execution_count": null,
      "outputs": [
        {
          "output_type": "stream",
          "name": "stdout",
          "text": [
            "[0. 0. 0. 0. 0. 0. 0. 1. 0. 0.]\n"
          ]
        }
      ]
    },
    {
      "cell_type": "code",
      "source": [],
      "metadata": {
        "id": "BGfQlIihdUDo"
      },
      "execution_count": null,
      "outputs": []
    },
    {
      "cell_type": "markdown",
      "source": [
        "### Preview Gambar"
      ],
      "metadata": {
        "id": "jpSRkrYydmCy"
      }
    },
    {
      "cell_type": "code",
      "source": [
        "plt.figure\n",
        "for i in range(9):\n",
        "  plt.subplot(3,3,i+1)\n",
        "  plt.imshow(x_train_raw[i])\n",
        "  plt.axis('off')\n",
        "\n",
        "plt.show()"
      ],
      "metadata": {
        "colab": {
          "base_uri": "https://localhost:8080/",
          "height": 248
        },
        "id": "Sv_iqqd4dn7n",
        "outputId": "9a522cd7-926e-427d-cc5b-e50b6f0cca97"
      },
      "execution_count": null,
      "outputs": [
        {
          "output_type": "display_data",
          "data": {
            "text/plain": [
              "<Figure size 432x288 with 9 Axes>"
            ],
            "image/png": "[encoded data removed]"
          },
          "metadata": {
            "needs_background": "light"
          }
        }
      ]
    },
    {
      "cell_type": "code",
      "source": [
        "# plt.imshow(x_train_raw[0])"
      ],
      "metadata": {
        "id": "UkhKZLeBeBT3"
      },
      "execution_count": null,
      "outputs": []
    },
    {
      "cell_type": "markdown",
      "source": [
        "### Reshape Gambar"
      ],
      "metadata": {
        "id": "CtVMJILleJyY"
      }
    },
    {
      "cell_type": "code",
      "source": [
        "x_train = x_train_raw.reshape(60000,784)\n",
        "x_test = x_test_raw.reshape(10000,784)"
      ],
      "metadata": {
        "id": "TYFw56PneI_o"
      },
      "execution_count": null,
      "outputs": []
    },
    {
      "cell_type": "markdown",
      "source": [
        "#### Normalisasi"
      ],
      "metadata": {
        "id": "LTSr_kPPeiUp"
      }
    },
    {
      "cell_type": "code",
      "source": [
        "#\n",
        "x_train = x_train.astype('float64')/255\n",
        "# x_test = x_test.astype('float64')/255"
      ],
      "metadata": {
        "id": "d3wl8iSLeJCK"
      },
      "execution_count": null,
      "outputs": []
    },
    {
      "cell_type": "code",
      "source": [],
      "metadata": {
        "id": "cJB7KkEjdpIX"
      },
      "execution_count": null,
      "outputs": []
    },
    {
      "cell_type": "markdown",
      "source": [
        "#### Buat Model"
      ],
      "metadata": {
        "id": "OoPsY0QxfUTo"
      }
    },
    {
      "cell_type": "code",
      "source": [
        "model_mnist = keras.Sequential()"
      ],
      "metadata": {
        "id": "kyftZnYte0aO"
      },
      "execution_count": null,
      "outputs": []
    },
    {
      "cell_type": "code",
      "source": [
        "# Input Layer\n",
        "model_mnist.add(layers.Dense(512,activation='relu',input_dim=784))\n",
        "\n",
        "# Hidden Layer\n",
        "model_mnist.add(layers.Dense(256,activation='relu'))\n",
        "model_mnist.add(layers.Dense(128,activation='relu'))\n",
        "\n",
        "#Output Layer\n",
        "model_mnist.add(layers.Dense(10,activation='softmax'))"
      ],
      "metadata": {
        "id": "TFecy0bBfZF3"
      },
      "execution_count": null,
      "outputs": []
    },
    {
      "cell_type": "code",
      "source": [],
      "metadata": {
        "id": "l1WEH6K8gBmi"
      },
      "execution_count": null,
      "outputs": []
    },
    {
      "cell_type": "markdown",
      "source": [
        "**Activation**\n",
        "- Regresi = relu, tanh\n",
        "- Klasifikasi - Binary = sigmoid\n",
        "- Klasifikasi - MultiClass = softmax"
      ],
      "metadata": {
        "id": "zGCJCUF4gb9a"
      }
    },
    {
      "cell_type": "code",
      "source": [
        "model_mnist.summary()"
      ],
      "metadata": {
        "colab": {
          "base_uri": "https://localhost:8080/"
        },
        "id": "iJrc0PZYgAaH",
        "outputId": "fc9c7e10-0b8f-4d32-9bbc-1c379b66c957"
      },
      "execution_count": null,
      "outputs": [
        {
          "output_type": "stream",
          "name": "stdout",
          "text": [
            "Model: \"sequential_10\"\n",
            "_________________________________________________________________\n",
            " Layer (type)                Output Shape              Param #   \n",
            "=================================================================\n",
            " dense_35 (Dense)            (None, 512)               401920    \n",
            "                                                                 \n",
            " dense_36 (Dense)            (None, 256)               131328    \n",
            "                                                                 \n",
            " dense_37 (Dense)            (None, 128)               32896     \n",
            "                                                                 \n",
            " dense_38 (Dense)            (None, 10)                1290      \n",
            "                                                                 \n",
            "=================================================================\n",
            "Total params: 567,434\n",
            "Trainable params: 567,434\n",
            "Non-trainable params: 0\n",
            "_________________________________________________________________\n"
          ]
        }
      ]
    },
    {
      "cell_type": "code",
      "source": [],
      "metadata": {
        "id": "6MCwUcPHg5TX"
      },
      "execution_count": null,
      "outputs": []
    },
    {
      "cell_type": "markdown",
      "source": [
        "### Compile Model"
      ],
      "metadata": {
        "id": "lEIPgNn8hKWZ"
      }
    },
    {
      "cell_type": "code",
      "source": [
        "Optimizer = optimizers.Adam(learning_rate=0.0001)\n",
        "model_mnist.compile(loss=keras.losses.categorical_crossentropy,optimizer=Optimizer,\n",
        "                    metrics=['accuracy'])"
      ],
      "metadata": {
        "id": "dsPZg0ZhhMgu"
      },
      "execution_count": null,
      "outputs": []
    },
    {
      "cell_type": "code",
      "source": [],
      "metadata": {
        "id": "KtZw3qFzhzEn"
      },
      "execution_count": null,
      "outputs": []
    },
    {
      "cell_type": "markdown",
      "source": [
        "**Losses**\n",
        "- Regresi = mse, mae\n",
        "- Klasifikasi - Binary = binary_crossentropy\n",
        "- Klasifikasi - MultiClass = categorical_crossentropy\n",
        "\n",
        "**Metrics**\n",
        "- Accuracy\n",
        "- Recall\n",
        "- Precision"
      ],
      "metadata": {
        "id": "QErjae2qiccg"
      }
    },
    {
      "cell_type": "code",
      "source": [],
      "metadata": {
        "id": "4kgl_D3Pio8g"
      },
      "execution_count": null,
      "outputs": []
    },
    {
      "cell_type": "markdown",
      "source": [
        "#### Training Model"
      ],
      "metadata": {
        "id": "dPDxSiUQjEHf"
      }
    },
    {
      "cell_type": "code",
      "source": [
        "model_mnist.fit(x_train,y_train, epochs=10, batch_size=128)"
      ],
      "metadata": {
        "colab": {
          "base_uri": "https://localhost:8080/"
        },
        "id": "p1ktdAe1jGim",
        "outputId": "654d7328-4039-470f-cf31-ae6e25004b7c"
      },
      "execution_count": null,
      "outputs": [
        {
          "output_type": "stream",
          "name": "stdout",
          "text": [
            "Epoch 1/10\n",
            "469/469 [==============================] - 7s 14ms/step - loss: 2.3019 - accuracy: 0.1124\n",
            "Epoch 2/10\n",
            "469/469 [==============================] - 7s 15ms/step - loss: 2.3013 - accuracy: 0.1124\n",
            "Epoch 3/10\n",
            "469/469 [==============================] - 7s 14ms/step - loss: 2.3013 - accuracy: 0.1124\n",
            "Epoch 4/10\n",
            "469/469 [==============================] - 7s 14ms/step - loss: 2.3012 - accuracy: 0.1124\n",
            "Epoch 5/10\n",
            "469/469 [==============================] - 6s 14ms/step - loss: 2.3012 - accuracy: 0.1124\n",
            "Epoch 6/10\n",
            "469/469 [==============================] - 6s 14ms/step - loss: 2.3012 - accuracy: 0.1124\n",
            "Epoch 7/10\n",
            "469/469 [==============================] - 7s 14ms/step - loss: 2.3011 - accuracy: 0.1124\n",
            "Epoch 8/10\n",
            "469/469 [==============================] - 7s 14ms/step - loss: 2.3011 - accuracy: 0.1124\n",
            "Epoch 9/10\n",
            "469/469 [==============================] - 7s 14ms/step - loss: 2.3010 - accuracy: 0.1124\n",
            "Epoch 10/10\n",
            "469/469 [==============================] - 7s 14ms/step - loss: 2.3009 - accuracy: 0.1124\n"
          ]
        },
        {
          "output_type": "execute_result",
          "data": {
            "text/plain": [
              "<keras.callbacks.History at 0x7f34a6882150>"
            ]
          },
          "metadata": {},
          "execution_count": 75
        }
      ]
    },
    {
      "cell_type": "markdown",
      "source": [
        "#### Evaluate Model"
      ],
      "metadata": {
        "id": "wXoma48ckVzQ"
      }
    },
    {
      "cell_type": "code",
      "source": [
        "score = model_mnist.evaluate(x_test,y_test, verbose=1)\n",
        "print(f'Test Loss : {score[0]}')\n",
        "print(f'Test Akurasi : {round(score[1] * 100,2)}%')"
      ],
      "metadata": {
        "colab": {
          "base_uri": "https://localhost:8080/",
          "height": 397
        },
        "id": "zvCMu82ZlFgh",
        "outputId": "cc81d502-56e3-41dd-f6c7-9f145e053e7a"
      },
      "execution_count": null,
      "outputs": [
        {
          "output_type": "error",
          "ename": "ValueError",
          "evalue": "ignored",
          "traceback": [
            "\u001b[0;31m---------------------------------------------------------------------------\u001b[0m",
            "\u001b[0;31mValueError\u001b[0m                                Traceback (most recent call last)",
            "\u001b[0;32m<ipython-input-80-285e8ed0b6c1>\u001b[0m in \u001b[0;36m<module>\u001b[0;34m\u001b[0m\n\u001b[0;32m----> 1\u001b[0;31m \u001b[0mscore\u001b[0m \u001b[0;34m=\u001b[0m \u001b[0mmodel_mnist\u001b[0m\u001b[0;34m.\u001b[0m\u001b[0mevaluate\u001b[0m\u001b[0;34m(\u001b[0m\u001b[0mx_test\u001b[0m\u001b[0;34m,\u001b[0m\u001b[0my_test\u001b[0m\u001b[0;34m,\u001b[0m \u001b[0mverbose\u001b[0m\u001b[0;34m=\u001b[0m\u001b[0;36m1\u001b[0m\u001b[0;34m)\u001b[0m\u001b[0;34m\u001b[0m\u001b[0;34m\u001b[0m\u001b[0m\n\u001b[0m\u001b[1;32m      2\u001b[0m \u001b[0mprint\u001b[0m\u001b[0;34m(\u001b[0m\u001b[0;34mf'Test Loss : {score[0]}'\u001b[0m\u001b[0;34m)\u001b[0m\u001b[0;34m\u001b[0m\u001b[0;34m\u001b[0m\u001b[0m\n\u001b[1;32m      3\u001b[0m \u001b[0mprint\u001b[0m\u001b[0;34m(\u001b[0m\u001b[0;34mf'Test Akurasi : {round(score[1] * 100,2)}%'\u001b[0m\u001b[0;34m)\u001b[0m\u001b[0;34m\u001b[0m\u001b[0;34m\u001b[0m\u001b[0m\n",
            "\u001b[0;32m/usr/local/lib/python3.7/dist-packages/keras/utils/traceback_utils.py\u001b[0m in \u001b[0;36merror_handler\u001b[0;34m(*args, **kwargs)\u001b[0m\n\u001b[1;32m     65\u001b[0m     \u001b[0;32mexcept\u001b[0m \u001b[0mException\u001b[0m \u001b[0;32mas\u001b[0m \u001b[0me\u001b[0m\u001b[0;34m:\u001b[0m  \u001b[0;31m# pylint: disable=broad-except\u001b[0m\u001b[0;34m\u001b[0m\u001b[0;34m\u001b[0m\u001b[0m\n\u001b[1;32m     66\u001b[0m       \u001b[0mfiltered_tb\u001b[0m \u001b[0;34m=\u001b[0m \u001b[0m_process_traceback_frames\u001b[0m\u001b[0;34m(\u001b[0m\u001b[0me\u001b[0m\u001b[0;34m.\u001b[0m\u001b[0m__traceback__\u001b[0m\u001b[0;34m)\u001b[0m\u001b[0;34m\u001b[0m\u001b[0;34m\u001b[0m\u001b[0m\n\u001b[0;32m---> 67\u001b[0;31m       \u001b[0;32mraise\u001b[0m \u001b[0me\u001b[0m\u001b[0;34m.\u001b[0m\u001b[0mwith_traceback\u001b[0m\u001b[0;34m(\u001b[0m\u001b[0mfiltered_tb\u001b[0m\u001b[0;34m)\u001b[0m \u001b[0;32mfrom\u001b[0m \u001b[0;32mNone\u001b[0m\u001b[0;34m\u001b[0m\u001b[0;34m\u001b[0m\u001b[0m\n\u001b[0m\u001b[1;32m     68\u001b[0m     \u001b[0;32mfinally\u001b[0m\u001b[0;34m:\u001b[0m\u001b[0;34m\u001b[0m\u001b[0;34m\u001b[0m\u001b[0m\n\u001b[1;32m     69\u001b[0m       \u001b[0;32mdel\u001b[0m \u001b[0mfiltered_tb\u001b[0m\u001b[0;34m\u001b[0m\u001b[0;34m\u001b[0m\u001b[0m\n",
            "\u001b[0;32m/usr/local/lib/python3.7/dist-packages/keras/engine/data_adapter.py\u001b[0m in \u001b[0;36m_check_data_cardinality\u001b[0;34m(data)\u001b[0m\n\u001b[1;32m   1653\u001b[0m                            for i in tf.nest.flatten(single_data)))\n\u001b[1;32m   1654\u001b[0m     \u001b[0mmsg\u001b[0m \u001b[0;34m+=\u001b[0m \u001b[0;34m\"Make sure all arrays contain the same number of samples.\"\u001b[0m\u001b[0;34m\u001b[0m\u001b[0;34m\u001b[0m\u001b[0m\n\u001b[0;32m-> 1655\u001b[0;31m     \u001b[0;32mraise\u001b[0m \u001b[0mValueError\u001b[0m\u001b[0;34m(\u001b[0m\u001b[0mmsg\u001b[0m\u001b[0;34m)\u001b[0m\u001b[0;34m\u001b[0m\u001b[0;34m\u001b[0m\u001b[0m\n\u001b[0m\u001b[1;32m   1656\u001b[0m \u001b[0;34m\u001b[0m\u001b[0m\n\u001b[1;32m   1657\u001b[0m \u001b[0;34m\u001b[0m\u001b[0m\n",
            "\u001b[0;31mValueError\u001b[0m: Data cardinality is ambiguous:\n  x sizes: 60000\n  y sizes: 10000\nMake sure all arrays contain the same number of samples."
          ]
        }
      ]
    },
    {
      "cell_type": "code",
      "source": [
        "score = model.evaluate(x_test, y_test, verbose=0)\n",
        "print('Test loss:', score[0])\n",
        "print('Test accuracy:', score[1])"
      ],
      "metadata": {
        "colab": {
          "base_uri": "https://localhost:8080/",
          "height": 345
        },
        "id": "Aoy55WqKoxEQ",
        "outputId": "8344f6f9-f64d-4c7c-a387-06b052636b2a"
      },
      "execution_count": null,
      "outputs": [
        {
          "output_type": "error",
          "ename": "RuntimeError",
          "evalue": "ignored",
          "traceback": [
            "\u001b[0;31m---------------------------------------------------------------------------\u001b[0m",
            "\u001b[0;31mRuntimeError\u001b[0m                              Traceback (most recent call last)",
            "\u001b[0;32m<ipython-input-79-557703b66ce1>\u001b[0m in \u001b[0;36m<module>\u001b[0;34m\u001b[0m\n\u001b[0;32m----> 1\u001b[0;31m \u001b[0mscore\u001b[0m \u001b[0;34m=\u001b[0m \u001b[0mmodel\u001b[0m\u001b[0;34m.\u001b[0m\u001b[0mevaluate\u001b[0m\u001b[0;34m(\u001b[0m\u001b[0mx_test\u001b[0m\u001b[0;34m,\u001b[0m \u001b[0my_test\u001b[0m\u001b[0;34m,\u001b[0m \u001b[0mverbose\u001b[0m\u001b[0;34m=\u001b[0m\u001b[0;36m0\u001b[0m\u001b[0;34m)\u001b[0m\u001b[0;34m\u001b[0m\u001b[0;34m\u001b[0m\u001b[0m\n\u001b[0m\u001b[1;32m      2\u001b[0m \u001b[0mprint\u001b[0m\u001b[0;34m(\u001b[0m\u001b[0;34m'Test loss:'\u001b[0m\u001b[0;34m,\u001b[0m \u001b[0mscore\u001b[0m\u001b[0;34m[\u001b[0m\u001b[0;36m0\u001b[0m\u001b[0;34m]\u001b[0m\u001b[0;34m)\u001b[0m\u001b[0;34m\u001b[0m\u001b[0;34m\u001b[0m\u001b[0m\n\u001b[1;32m      3\u001b[0m \u001b[0mprint\u001b[0m\u001b[0;34m(\u001b[0m\u001b[0;34m'Test accuracy:'\u001b[0m\u001b[0;34m,\u001b[0m \u001b[0mscore\u001b[0m\u001b[0;34m[\u001b[0m\u001b[0;36m1\u001b[0m\u001b[0;34m]\u001b[0m\u001b[0;34m)\u001b[0m\u001b[0;34m\u001b[0m\u001b[0;34m\u001b[0m\u001b[0m\n",
            "\u001b[0;32m/usr/local/lib/python3.7/dist-packages/keras/utils/traceback_utils.py\u001b[0m in \u001b[0;36merror_handler\u001b[0;34m(*args, **kwargs)\u001b[0m\n\u001b[1;32m     65\u001b[0m     \u001b[0;32mexcept\u001b[0m \u001b[0mException\u001b[0m \u001b[0;32mas\u001b[0m \u001b[0me\u001b[0m\u001b[0;34m:\u001b[0m  \u001b[0;31m# pylint: disable=broad-except\u001b[0m\u001b[0;34m\u001b[0m\u001b[0;34m\u001b[0m\u001b[0m\n\u001b[1;32m     66\u001b[0m       \u001b[0mfiltered_tb\u001b[0m \u001b[0;34m=\u001b[0m \u001b[0m_process_traceback_frames\u001b[0m\u001b[0;34m(\u001b[0m\u001b[0me\u001b[0m\u001b[0;34m.\u001b[0m\u001b[0m__traceback__\u001b[0m\u001b[0;34m)\u001b[0m\u001b[0;34m\u001b[0m\u001b[0;34m\u001b[0m\u001b[0m\n\u001b[0;32m---> 67\u001b[0;31m       \u001b[0;32mraise\u001b[0m \u001b[0me\u001b[0m\u001b[0;34m.\u001b[0m\u001b[0mwith_traceback\u001b[0m\u001b[0;34m(\u001b[0m\u001b[0mfiltered_tb\u001b[0m\u001b[0;34m)\u001b[0m \u001b[0;32mfrom\u001b[0m \u001b[0;32mNone\u001b[0m\u001b[0;34m\u001b[0m\u001b[0;34m\u001b[0m\u001b[0m\n\u001b[0m\u001b[1;32m     68\u001b[0m     \u001b[0;32mfinally\u001b[0m\u001b[0;34m:\u001b[0m\u001b[0;34m\u001b[0m\u001b[0;34m\u001b[0m\u001b[0m\n\u001b[1;32m     69\u001b[0m       \u001b[0;32mdel\u001b[0m \u001b[0mfiltered_tb\u001b[0m\u001b[0;34m\u001b[0m\u001b[0;34m\u001b[0m\u001b[0m\n",
            "\u001b[0;32m/usr/local/lib/python3.7/dist-packages/keras/engine/training.py\u001b[0m in \u001b[0;36m_assert_compile_was_called\u001b[0;34m(self)\u001b[0m\n\u001b[1;32m   3158\u001b[0m     \u001b[0;31m# (i.e. whether the model is built and its inputs/outputs are set).\u001b[0m\u001b[0;34m\u001b[0m\u001b[0;34m\u001b[0m\u001b[0;34m\u001b[0m\u001b[0m\n\u001b[1;32m   3159\u001b[0m     \u001b[0;32mif\u001b[0m \u001b[0;32mnot\u001b[0m \u001b[0mself\u001b[0m\u001b[0;34m.\u001b[0m\u001b[0m_is_compiled\u001b[0m\u001b[0;34m:\u001b[0m\u001b[0;34m\u001b[0m\u001b[0;34m\u001b[0m\u001b[0m\n\u001b[0;32m-> 3160\u001b[0;31m       raise RuntimeError('You must compile your model before '\n\u001b[0m\u001b[1;32m   3161\u001b[0m                          \u001b[0;34m'training/testing. '\u001b[0m\u001b[0;34m\u001b[0m\u001b[0;34m\u001b[0m\u001b[0m\n\u001b[1;32m   3162\u001b[0m                          'Use `model.compile(optimizer, loss)`.')\n",
            "\u001b[0;31mRuntimeError\u001b[0m: You must compile your model before training/testing. Use `model.compile(optimizer, loss)`."
          ]
        }
      ]
    },
    {
      "cell_type": "code",
      "source": [],
      "metadata": {
        "id": "yiGggxtKkhzW"
      },
      "execution_count": null,
      "outputs": []
    }
  ]
}