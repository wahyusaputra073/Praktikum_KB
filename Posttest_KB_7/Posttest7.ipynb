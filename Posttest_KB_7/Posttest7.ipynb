{
  "nbformat": 4,
  "nbformat_minor": 0,
  "metadata": {
    "colab": {
      "provenance": [],
      "collapsed_sections": []
    },
    "kernelspec": {
      "name": "python3",
      "display_name": "Python 3"
    },
    "language_info": {
      "name": "python"
    }
  },
  "cells": [
    {
      "cell_type": "markdown",
      "source": [
        "POSTTEST 7 - PENGENALAN TENSORFLOW\n",
        "Nama : Wahyu Harry Saputra Sembiring\n",
        "NIM : 2009106049\n",
        "Kelas : Informatika A 2020"
      ],
      "metadata": {
        "id": "YCanmtaKz2qB"
      }
    },
    {
      "cell_type": "code",
      "execution_count": 30,
      "metadata": {
        "id": "M1-Rce7GzwIM"
      },
      "outputs": [],
      "source": [
        "import tensorflow as tf"
      ]
    },
    {
      "cell_type": "code",
      "source": [
        "# Buat Tensor (5,5) dengan nilai Random\n",
        "random_tensor = tf.Variable(tf.random.normal([5,5], mean=4, stddev=1, dtype=tf.float32))\n",
        "random_tensor.read_value().numpy()"
      ],
      "metadata": {
        "colab": {
          "base_uri": "https://localhost:8080/"
        },
        "id": "O715dlF7z2HG",
        "outputId": "9686f87e-e974-4d10-c3ad-87ee3630ca4e"
      },
      "execution_count": 31,
      "outputs": [
        {
          "output_type": "execute_result",
          "data": {
            "text/plain": [
              "array([[4.854152 , 4.0945034, 4.265371 , 3.4155755, 5.8668737],\n",
              "       [2.657279 , 5.1004663, 3.7438815, 4.2128067, 3.5088875],\n",
              "       [4.651579 , 3.7660866, 4.7079253, 4.3662586, 4.728471 ],\n",
              "       [4.4583926, 5.7127237, 3.7654843, 3.5786078, 2.8387287],\n",
              "       [3.7054026, 4.0028815, 3.634648 , 4.6306643, 4.778719 ]],\n",
              "      dtype=float32)"
            ]
          },
          "metadata": {},
          "execution_count": 31
        }
      ]
    },
    {
      "cell_type": "code",
      "source": [
        "list = [[11,12,63,64,45],[21,32,34,54,65],[71,32,53,4,5],[91,52,63,54,95],[16,24,73,47,45]]\n",
        "prime_tensor = tf.convert_to_tensor(list, dtype=tf.int64).numpy()"
      ],
      "metadata": {
        "id": "CtsavN460MeX"
      },
      "execution_count": 32,
      "outputs": []
    },
    {
      "cell_type": "code",
      "source": [
        "print(\"Ini adalah tampilan dimensi dari random tensor\")\n",
        "print(random_tensor.read_value().numpy())\n",
        "\n",
        "print(\"\\nIni adalah tampilan dimensi dari prime tensor\")\n",
        "print(prime_tensor)"
      ],
      "metadata": {
        "colab": {
          "base_uri": "https://localhost:8080/"
        },
        "id": "g2DUwQDI0TGt",
        "outputId": "2bfc21ed-a56d-4edb-d4d7-a7fc9641766f"
      },
      "execution_count": 33,
      "outputs": [
        {
          "output_type": "stream",
          "name": "stdout",
          "text": [
            "Ini adalah tampilan dimensi dari random tensor\n",
            "[[4.854152  4.0945034 4.265371  3.4155755 5.8668737]\n",
            " [2.657279  5.1004663 3.7438815 4.2128067 3.5088875]\n",
            " [4.651579  3.7660866 4.7079253 4.3662586 4.728471 ]\n",
            " [4.4583926 5.7127237 3.7654843 3.5786078 2.8387287]\n",
            " [3.7054026 4.0028815 3.634648  4.6306643 4.778719 ]]\n",
            "\n",
            "Ini adalah tampilan dimensi dari prime tensor\n",
            "[[11 12 63 64 45]\n",
            " [21 32 34 54 65]\n",
            " [71 32 53  4  5]\n",
            " [91 52 63 54 95]\n",
            " [16 24 73 47 45]]\n"
          ]
        }
      ]
    },
    {
      "cell_type": "code",
      "source": [
        "# Penjumlahan\n",
        "tf.add(random_tensor,prime_tensor)"
      ],
      "metadata": {
        "colab": {
          "base_uri": "https://localhost:8080/"
        },
        "id": "xTVhtTkD1fjv",
        "outputId": "c9aaacfc-c566-48ea-930e-42e4c188ee1f"
      },
      "execution_count": 34,
      "outputs": [
        {
          "output_type": "execute_result",
          "data": {
            "text/plain": [
              "<tf.Tensor: shape=(5, 5), dtype=float32, numpy=\n",
              "array([[15.854153, 16.094503, 67.26537 , 67.41557 , 50.866875],\n",
              "       [23.65728 , 37.100468, 37.74388 , 58.212807, 68.50889 ],\n",
              "       [75.65158 , 35.766087, 57.707924,  8.366259,  9.728471],\n",
              "       [95.45839 , 57.712723, 66.76549 , 57.57861 , 97.83873 ],\n",
              "       [19.705402, 28.002882, 76.63465 , 51.630665, 49.778717]],\n",
              "      dtype=float32)>"
            ]
          },
          "metadata": {},
          "execution_count": 34
        }
      ]
    },
    {
      "cell_type": "code",
      "source": [
        "# Pengurangan\n",
        "tf.subtract(random_tensor,prime_tensor)"
      ],
      "metadata": {
        "colab": {
          "base_uri": "https://localhost:8080/"
        },
        "id": "HOBFxQCA1rmT",
        "outputId": "da4b5321-e742-444c-a331-7dd6f9f283fe"
      },
      "execution_count": 35,
      "outputs": [
        {
          "output_type": "execute_result",
          "data": {
            "text/plain": [
              "<tf.Tensor: shape=(5, 5), dtype=float32, numpy=\n",
              "array([[ -6.145848  ,  -7.9054966 , -58.73463   , -60.584423  ,\n",
              "        -39.133125  ],\n",
              "       [-18.34272   , -26.899534  , -30.256119  , -49.787193  ,\n",
              "        -61.49111   ],\n",
              "       [-66.34842   , -28.233913  , -48.292076  ,   0.36625862,\n",
              "         -0.2715292 ],\n",
              "       [-86.54161   , -46.287277  , -59.234516  , -50.42139   ,\n",
              "        -92.16127   ],\n",
              "       [-12.294598  , -19.997118  , -69.36535   , -42.369335  ,\n",
              "        -40.221283  ]], dtype=float32)>"
            ]
          },
          "metadata": {},
          "execution_count": 35
        }
      ]
    },
    {
      "cell_type": "code",
      "source": [
        "# Perkalian\n",
        "tf.multiply(random_tensor,prime_tensor)"
      ],
      "metadata": {
        "colab": {
          "base_uri": "https://localhost:8080/"
        },
        "id": "2sT79dCm1ucd",
        "outputId": "ab92f217-aeb2-4ce4-de8b-d6c0efe270ef"
      },
      "execution_count": 36,
      "outputs": [
        {
          "output_type": "execute_result",
          "data": {
            "text/plain": [
              "<tf.Tensor: shape=(5, 5), dtype=float32, numpy=\n",
              "array([[ 53.395676,  49.13404 , 268.71835 , 218.59683 , 264.0093  ],\n",
              "       [ 55.80286 , 163.21492 , 127.29197 , 227.49156 , 228.07768 ],\n",
              "       [330.26212 , 120.51477 , 249.52003 ,  17.465034,  23.642353],\n",
              "       [405.7137  , 297.06165 , 237.22551 , 193.24483 , 269.67923 ],\n",
              "       [ 59.28644 ,  96.06915 , 265.3293  , 217.64122 , 215.04236 ]],\n",
              "      dtype=float32)>"
            ]
          },
          "metadata": {},
          "execution_count": 36
        }
      ]
    },
    {
      "cell_type": "code",
      "source": [
        "# Pembagian\n",
        "tf.divide(random_tensor,prime_tensor)"
      ],
      "metadata": {
        "colab": {
          "base_uri": "https://localhost:8080/"
        },
        "id": "h6XQqKAw1y4g",
        "outputId": "8f74ae2b-12eb-4841-d6cd-8a3be03df543"
      },
      "execution_count": 37,
      "outputs": [
        {
          "output_type": "execute_result",
          "data": {
            "text/plain": [
              "<tf.Tensor: shape=(5, 5), dtype=float32, numpy=\n",
              "array([[0.44128656, 0.3412086 , 0.0677043 , 0.05336837, 0.13037497],\n",
              "       [0.1265371 , 0.15938957, 0.11011416, 0.07801494, 0.05398288],\n",
              "       [0.0655152 , 0.11769021, 0.08882878, 1.0915647 , 0.94569415],\n",
              "       [0.04899333, 0.10986007, 0.05976959, 0.06627052, 0.02988135],\n",
              "       [0.23158766, 0.16678673, 0.0497897 , 0.09852477, 0.10619375]],\n",
              "      dtype=float32)>"
            ]
          },
          "metadata": {},
          "execution_count": 37
        }
      ]
    },
    {
      "cell_type": "code",
      "source": [
        "# Logaritma\n",
        "tf.math.log(random_tensor,prime_tensor)"
      ],
      "metadata": {
        "colab": {
          "base_uri": "https://localhost:8080/"
        },
        "id": "Wm9gUldq4XBd",
        "outputId": "2fc234f1-21e3-4171-c08a-1a56b098d78a"
      },
      "execution_count": 38,
      "outputs": [
        {
          "output_type": "execute_result",
          "data": {
            "text/plain": [
              "<tf.Tensor: shape=(5, 5), dtype=float32, numpy=\n",
              "array([[1.5798345, 1.4096454, 1.4505291, 1.228346 , 1.7693219],\n",
              "       [0.9773027, 1.629332 , 1.320123 , 1.4381291, 1.2552991],\n",
              "       [1.5372066, 1.3260365, 1.5492473, 1.4739065, 1.5536019],\n",
              "       [1.4947883, 1.7426959, 1.3258765, 1.2749739, 1.0433563],\n",
              "       [1.3097919, 1.3870145, 1.2905123, 1.5327003, 1.5641725]],\n",
              "      dtype=float32)>"
            ]
          },
          "metadata": {},
          "execution_count": 38
        }
      ]
    },
    {
      "cell_type": "code",
      "source": [
        "#Perpangkatan\n",
        "tf.pow(random_tensor,prime_tensor)"
      ],
      "metadata": {
        "colab": {
          "base_uri": "https://localhost:8080/"
        },
        "id": "JQ7i3xHc10Vk",
        "outputId": "fca1c655-9237-4efc-9ab3-fd1da1f69a4a"
      },
      "execution_count": 39,
      "outputs": [
        {
          "output_type": "execute_result",
          "data": {
            "text/plain": [
              "<tf.Tensor: shape=(5, 5), dtype=float32, numpy=\n",
              "array([[3.5257156e+07, 2.2203162e+07,           inf, 1.3857631e+34,\n",
              "        3.7870705e+34],\n",
              "       [8.1880467e+08, 4.4006428e+22, 3.1113657e+19, 5.3316641e+33,\n",
              "        2.7290665e+35],\n",
              "       [          inf, 2.6821904e+18, 4.5705340e+35, 3.6344427e+02,\n",
              "        2.3637610e+03],\n",
              "       [          inf,           inf, 1.8910945e+36, 7.9535607e+29,\n",
              "                  inf],\n",
              "       [1.2628927e+09, 2.8638198e+14,           inf, 1.9285691e+31,\n",
              "        3.7069525e+30]], dtype=float32)>"
            ]
          },
          "metadata": {},
          "execution_count": 39
        }
      ]
    },
    {
      "cell_type": "code",
      "source": [
        "tf.matmul(random_tensor,prime_tensor)"
      ],
      "metadata": {
        "colab": {
          "base_uri": "https://localhost:8080/"
        },
        "id": "kTLC7RbP114J",
        "outputId": "897807a6-e663-4b20-9c2b-d60a2a740e3f"
      },
      "execution_count": 40,
      "outputs": [
        {
          "output_type": "execute_result",
          "data": {
            "text/plain": [
              "<tf.Tensor: shape=(5, 5), dtype=float32, numpy=\n",
              "array([[ 846.90894,  644.1807 , 1314.5524 , 1009.0145 , 1094.3954 ],\n",
              "       [ 841.6631 ,  618.1857 , 1060.8058 ,  852.87585, 1027.9438 ],\n",
              "       [ 937.5029 ,  667.51605, 1290.8691 ,  977.9175 , 1105.232  ],\n",
              "       [ 807.4319 ,  611.0205 , 1107.3615 ,  935.5512 , 1058.4927 ],\n",
              "       [ 880.72986,  644.3496 , 1202.753  ,  942.49567, 1100.0591 ]],\n",
              "      dtype=float32)>"
            ]
          },
          "metadata": {},
          "execution_count": 40
        }
      ]
    },
    {
      "cell_type": "code",
      "source": [
        "tf.argmax(random_tensor, axis=0).numpy()"
      ],
      "metadata": {
        "colab": {
          "base_uri": "https://localhost:8080/"
        },
        "id": "_fbXawHl14KS",
        "outputId": "e56b3e87-f98f-4102-b3f4-91f3b23faa47"
      },
      "execution_count": 41,
      "outputs": [
        {
          "output_type": "execute_result",
          "data": {
            "text/plain": [
              "array([0, 3, 2, 4, 0])"
            ]
          },
          "metadata": {},
          "execution_count": 41
        }
      ]
    },
    {
      "cell_type": "code",
      "source": [
        "tf.argmin(random_tensor, axis=0).numpy()"
      ],
      "metadata": {
        "colab": {
          "base_uri": "https://localhost:8080/"
        },
        "id": "Y04QPCBS2DAH",
        "outputId": "bcd4a5fd-8206-4c50-d2a5-16a3aea62c1f"
      },
      "execution_count": 42,
      "outputs": [
        {
          "output_type": "execute_result",
          "data": {
            "text/plain": [
              "array([1, 2, 4, 0, 3])"
            ]
          },
          "metadata": {},
          "execution_count": 42
        }
      ]
    },
    {
      "cell_type": "code",
      "source": [
        "print(f\"Size Awal : {random_tensor.shape} {prime_tensor.shape}\" )"
      ],
      "metadata": {
        "colab": {
          "base_uri": "https://localhost:8080/"
        },
        "id": "aQBG58kF2ETF",
        "outputId": "e7acd10d-5a78-4328-b792-198e6f1ae944"
      },
      "execution_count": 43,
      "outputs": [
        {
          "output_type": "stream",
          "name": "stdout",
          "text": [
            "Size Awal : (5, 5) (5, 5)\n"
          ]
        }
      ]
    },
    {
      "cell_type": "code",
      "source": [
        "concat_tensor_1 = tf.concat([random_tensor, prime_tensor], axis=0)\n",
        "concat_tensor_2 = tf.concat([random_tensor, prime_tensor], axis=1)\n",
        "print(f\"Size yang sudah di concat (axis = 0) : {concat_tensor_1.shape}\")\n",
        "print(f\"Size yang sudah di concat (axis = 1) : {concat_tensor_2.shape}\")"
      ],
      "metadata": {
        "colab": {
          "base_uri": "https://localhost:8080/"
        },
        "id": "tcYZu1k92HT9",
        "outputId": "78d669ae-a432-4367-8edf-d39b8d9ee2a3"
      },
      "execution_count": 44,
      "outputs": [
        {
          "output_type": "stream",
          "name": "stdout",
          "text": [
            "Size yang sudah di concat (axis = 0) : (10, 5)\n",
            "Size yang sudah di concat (axis = 1) : (5, 10)\n"
          ]
        }
      ]
    },
    {
      "cell_type": "code",
      "source": [
        "# random_tensor descending sorting\n",
        "tf.sort(random_tensor, direction=\"DESCENDING\").numpy()"
      ],
      "metadata": {
        "colab": {
          "base_uri": "https://localhost:8080/"
        },
        "id": "eK5EvsqJ2JRF",
        "outputId": "b737a8d8-3890-4d96-bc63-c1f88fe98f6c"
      },
      "execution_count": 45,
      "outputs": [
        {
          "output_type": "execute_result",
          "data": {
            "text/plain": [
              "array([[5.8668737, 4.854152 , 4.265371 , 4.0945034, 3.4155755],\n",
              "       [5.1004663, 4.2128067, 3.7438815, 3.5088875, 2.657279 ],\n",
              "       [4.728471 , 4.7079253, 4.651579 , 4.3662586, 3.7660866],\n",
              "       [5.7127237, 4.4583926, 3.7654843, 3.5786078, 2.8387287],\n",
              "       [4.778719 , 4.6306643, 4.0028815, 3.7054026, 3.634648 ]],\n",
              "      dtype=float32)"
            ]
          },
          "metadata": {},
          "execution_count": 45
        }
      ]
    },
    {
      "cell_type": "code",
      "source": [
        "# random_tensor ascending sorting\n",
        "tf.sort(random_tensor, direction=\"ASCENDING\").numpy()"
      ],
      "metadata": {
        "colab": {
          "base_uri": "https://localhost:8080/"
        },
        "id": "7PCL62NW5CaB",
        "outputId": "38aa8605-0b5e-4ccd-ace1-c9de801c5603"
      },
      "execution_count": 46,
      "outputs": [
        {
          "output_type": "execute_result",
          "data": {
            "text/plain": [
              "array([[3.4155755, 4.0945034, 4.265371 , 4.854152 , 5.8668737],\n",
              "       [2.657279 , 3.5088875, 3.7438815, 4.2128067, 5.1004663],\n",
              "       [3.7660866, 4.3662586, 4.651579 , 4.7079253, 4.728471 ],\n",
              "       [2.8387287, 3.5786078, 3.7654843, 4.4583926, 5.7127237],\n",
              "       [3.634648 , 3.7054026, 4.0028815, 4.6306643, 4.778719 ]],\n",
              "      dtype=float32)"
            ]
          },
          "metadata": {},
          "execution_count": 46
        }
      ]
    },
    {
      "cell_type": "code",
      "source": [
        "# prime_tensor descending sorting\n",
        "tf.sort(prime_tensor, direction=\"DESCENDING\").numpy()"
      ],
      "metadata": {
        "colab": {
          "base_uri": "https://localhost:8080/"
        },
        "id": "LDSFKYaF2M6d",
        "outputId": "2a2b8c77-45b9-4ead-bcd7-db16cdc18b4d"
      },
      "execution_count": 47,
      "outputs": [
        {
          "output_type": "execute_result",
          "data": {
            "text/plain": [
              "array([[64, 63, 45, 12, 11],\n",
              "       [65, 54, 34, 32, 21],\n",
              "       [71, 53, 32,  5,  4],\n",
              "       [95, 91, 63, 54, 52],\n",
              "       [73, 47, 45, 24, 16]])"
            ]
          },
          "metadata": {},
          "execution_count": 47
        }
      ]
    },
    {
      "cell_type": "code",
      "source": [
        "# prime_tensor ascending sorting\n",
        "tf.sort(prime_tensor, direction=\"ASCENDING\").numpy()"
      ],
      "metadata": {
        "colab": {
          "base_uri": "https://localhost:8080/"
        },
        "id": "C4YGsrcA2Oje",
        "outputId": "3c5c4936-01da-4856-c220-b238abcaf57a"
      },
      "execution_count": 29,
      "outputs": [
        {
          "output_type": "execute_result",
          "data": {
            "text/plain": [
              "array([[11, 12, 45, 63, 64],\n",
              "       [21, 32, 34, 54, 65],\n",
              "       [ 4,  5, 32, 53, 71],\n",
              "       [52, 54, 63, 91, 95],\n",
              "       [16, 24, 45, 47, 73]])"
            ]
          },
          "metadata": {},
          "execution_count": 29
        }
      ]
    }
  ]
}